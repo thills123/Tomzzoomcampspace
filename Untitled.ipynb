{
 "cells": [
  {
   "cell_type": "code",
   "execution_count": 2,
   "id": "01945332-f82c-4974-b8ec-67b743c137e1",
   "metadata": {},
   "outputs": [
    {
     "name": "stdout",
     "output_type": "stream",
     "text": [
      "hello world Mr Tomi\n"
     ]
    }
   ],
   "source": [
    "print(\"hello world Mr Tomi\")"
   ]
  },
  {
   "cell_type": "code",
   "execution_count": 3,
   "id": "bef753da-0ded-4806-b79c-4bbe7f0377d8",
   "metadata": {},
   "outputs": [
    {
     "name": "stdout",
     "output_type": "stream",
     "text": [
      "whatsup Tomi\n"
     ]
    }
   ],
   "source": [
    "print(\"whatsup Tomi\")"
   ]
  },
  {
   "cell_type": "code",
   "execution_count": null,
   "id": "caaa96c3-3bdb-43ae-aba7-fc7bbead74fc",
   "metadata": {},
   "outputs": [],
   "source": []
  }
 ],
 "metadata": {
  "kernelspec": {
   "display_name": "Python 3 (ipykernel)",
   "language": "python",
   "name": "python3"
  },
  "language_info": {
   "codemirror_mode": {
    "name": "ipython",
    "version": 3
   },
   "file_extension": ".py",
   "mimetype": "text/x-python",
   "name": "python",
   "nbconvert_exporter": "python",
   "pygments_lexer": "ipython3",
   "version": "3.12.1"
  }
 },
 "nbformat": 4,
 "nbformat_minor": 5
}
